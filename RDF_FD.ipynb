{
  "nbformat": 4,
  "nbformat_minor": 0,
  "metadata": {
    "colab": {
      "provenance": [],
      "authorship_tag": "ABX9TyNHtg0d/YlDfug0UlLH2/m2",
      "include_colab_link": true
    },
    "kernelspec": {
      "name": "python3",
      "display_name": "Python 3"
    },
    "language_info": {
      "name": "python"
    }
  },
  "cells": [
    {
      "cell_type": "markdown",
      "metadata": {
        "id": "view-in-github",
        "colab_type": "text"
      },
      "source": [
        "<a href=\"https://colab.research.google.com/github/josephine-dworkin/capstone-rbf-fd/blob/main/RDF_FD.ipynb\" target=\"_parent\"><img src=\"https://colab.research.google.com/assets/colab-badge.svg\" alt=\"Open In Colab\"/></a>"
      ]
    },
    {
      "cell_type": "code",
      "source": [
        "import numpy as np\n",
        "import scipy.sparse as sp\n",
        "import scipy.sparse.linalg as spla\n",
        "import matplotlib.pyplot as plt\n",
        "from scipy.spatial import cKDTree"
      ],
      "metadata": {
        "id": "H2SyUHx4n9bD"
      },
      "execution_count": 127,
      "outputs": []
    },
    {
      "cell_type": "markdown",
      "source": [
        "Parameters from Slobodan Milovanovic's computations"
      ],
      "metadata": {
        "id": "ZSviaT5bnhiW"
      }
    },
    {
      "cell_type": "code",
      "execution_count": 128,
      "metadata": {
        "id": "6vfpmn3dndhL"
      },
      "outputs": [],
      "source": [
        "K = 100 # strike price\n",
        "T = 1 # time\n",
        "r = 0.03\n",
        "sigma = 0.15\n",
        "M = 10 ** 6\n",
        "\n",
        "S_min, S_max = 0.0, 4 * K\n",
        "N = 100 # number of nodes\n",
        "m = 7 # stencil size\n",
        "dt = 0.002\n",
        "Nt = int(T / dt)"
      ]
    },
    {
      "cell_type": "markdown",
      "source": [
        "Generating nodes using sinh clustered mapping"
      ],
      "metadata": {
        "id": "J1h-nYIcoH8n"
      }
    },
    {
      "cell_type": "code",
      "source": [
        "def generate_clustered_nodes(N, S_min, S_max, K, alpha):\n",
        "    xi = np.linspace(-1, 1, N)\n",
        "\n",
        "    # Symmetric sinh mapping around 0\n",
        "    # Gives more density near xi=0 (center)\n",
        "    stretched = np.sinh(alpha * xi) / np.sinh(alpha)\n",
        "\n",
        "    # Map stretched nodes into [S_min, S_max]\n",
        "    # and center them around K\n",
        "    midpoint = 0.5 * (S_min + S_max)\n",
        "    half_width = 0.5 * (S_max - S_min)\n",
        "\n",
        "    # Shift mapping so that the cluster center aligns with K\n",
        "    shift = (K - midpoint) / half_width\n",
        "    S_nodes = midpoint + half_width * (np.sinh(alpha * (xi + shift)) / np.sinh(alpha))\n",
        "    return S_nodes\n",
        "\n",
        "def generate_clustered_nodes(N, Smin, Smax, K, alpha):\n",
        "    xi = np.linspace(-1, 1, N)\n",
        "    stretched = np.sinh(alpha * xi) / np.sinh(alpha)\n",
        "    midpoint = 0.5 * (S_min + S_max)\n",
        "    half_width = 0.5 * (S_max - S_min)\n",
        "    S_nodes = K + half_width * stretched\n",
        "    return S_nodes\n",
        "\n",
        "def generate_clustered_nodes2(N, Smin, Smax, K, alpha):\n",
        "    xi = np.linspace(-1, 1, N)\n",
        "    stretched = np.sinh(alpha * xi) / np.sinh(alpha)\n",
        "    midpoint = 0.5 * (S_min + S_max)\n",
        "    half_width = 0.5 * (S_max - S_min)\n",
        "    S_nodes = K + half_width * stretched\n",
        "    S_nodes_shift = S_nodes + 100\n",
        "    return S_nodes_shift\n",
        "\n",
        "S_nodes = generate_nodes(N, S_min, S_max, K, 3)"
      ],
      "metadata": {
        "id": "J8Rl3Zj8oO9r"
      },
      "execution_count": 129,
      "outputs": []
    },
    {
      "cell_type": "code",
      "source": [
        "def generate_nodes(N, Smin, Smax, K, alpha):\n",
        "\n",
        "    xi = np.linspace(0, 1, int(N * K / Smax))\n",
        "    S_nodes_lower = K - (K - S_min) * np.sinh(alpha * xi) / np.sinh(alpha)\n",
        "\n",
        "    yi = np.linspace(0, 1, int(N - N * K / Smax))\n",
        "    S_nodes_upper = K + (S_max - K) * np.sinh(alpha * yi) / np.sinh(alpha)\n",
        "\n",
        "    S_nodes = np.concatenate((S_nodes_lower,S_nodes_upper))\n",
        "    return S_nodes\n",
        "\n",
        "S_nodes = generate_nodes(N, S_min, S_max, K, 3)"
      ],
      "metadata": {
        "id": "0hQd20rt6_vR"
      },
      "execution_count": 130,
      "outputs": []
    },
    {
      "cell_type": "code",
      "source": [
        "plt.figure(figsize=(10, 2.5))\n",
        "plt.plot(S_nodes, np.zeros_like(S_nodes), '|', markersize=20, label='Node set 1', color='red')\n",
        "\n",
        "\n",
        "plt.axvline(K, color='red', linestyle='--', label='Strike K')\n",
        "plt.xlabel('Asset Price S')\n",
        "plt.title('Node Locations Along the Asset Axis')\n",
        "plt.yticks([])\n",
        "plt.legend()\n",
        "plt.show()"
      ],
      "metadata": {
        "colab": {
          "base_uri": "https://localhost:8080/",
          "height": 295
        },
        "id": "0-weyw30xCaR",
        "outputId": "9dffb561-9b1f-4707-a554-534550940810"
      },
      "execution_count": 131,
      "outputs": [
        {
          "output_type": "display_data",
          "data": {
            "text/plain": [
              "<Figure size 1000x250 with 1 Axes>"
            ],
            "image/png": "[encoded data removed]"
          },
          "metadata": {}
        }
      ]
    },
    {
      "cell_type": "markdown",
      "source": [
        "Building RBF weights"
      ],
      "metadata": {
        "id": "eVDVzGP2JyQo"
      }
    },
    {
      "cell_type": "code",
      "source": [],
      "metadata": {
        "id": "0OSmMe8sJvoh"
      },
      "execution_count": 131,
      "outputs": []
    }
  ]
}